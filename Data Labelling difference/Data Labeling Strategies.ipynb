{
  "nbformat": 4,
  "nbformat_minor": 0,
  "metadata": {
    "jupytext": {
      "encoding": "# -*- coding: utf-8 -*-"
    },
    "kernelspec": {
      "display_name": "Python 3",
      "language": "python",
      "name": "python3"
    },
    "language_info": {
      "codemirror_mode": {
        "name": "ipython",
        "version": 3
      },
      "file_extension": ".py",
      "mimetype": "text/x-python",
      "name": "python",
      "nbconvert_exporter": "python",
      "pygments_lexer": "ipython3",
      "version": "3.7.6"
    },
    "colab": {
      "name": "C1W3_Data_Labeling_Ungraded_Lab.ipynb",
      "provenance": []
    }
  },
  "cells": [
    {
      "cell_type": "markdown",
      "metadata": {
        "id": "bKllzl8-Sgz9"
      },
      "source": [
        "# data labelling strategies effect on performance\n",
        "\n",
        "In this lab, you will see how the data labeling process affects the performance of a classification model. Labeling data is usually a very labor intensive and costly task but it is of great importance.\n",
        "\n",
        "As we know, there are many ways to label data, this is dependant on the strategy used. \n",
        "\n",
        "<table><tr><td><img src='assets/iguanas1.png'></td><td><img src='assets/iguanas2.png'></td><td><img src='assets/iguanas3.png'></td></tr></table>\n",
        "\n",
        "**You can think of every labeling strategy as a result of different labelers following different labeling rules**. If your data is labeled by people using different criteria this will have a negative impact on your learning algorithm. It is desired to have consistent labeling across your dataset.\n",
        "\n",
        "This notebook will touch on the effect of labeling strategies from a slighlty different angle. You will explore how different strategies affect the performance of a machine learning model by simulating the process of having different labelers label the data. This, by defining a set of rules and performing automatic labeling based on those rules.\n",
        "\n",
        "**The main objective of this notebook is to compare performance across labeling options to understand the role that good labeling plays on the performance of Machine Learning models**, these options are:\n",
        "1. Randomly generated labels (performance lower bound)\n",
        "2. Automatic generated labels based on three different label strategies\n",
        "3. True labels (performance upper bound)\n",
        "\n",
        "In this notebook you will be working with text data, concretely you will be using a dataset containing comments from the 2015 top 5 most popular Youtube videos. Each comment has been labeled as `spam` or `not_spam` depending on its contents."
      ]
    },
    {
      "cell_type": "code",
      "metadata": {
        "id": "NUSTAlOrSgz_"
      },
      "source": [
        "import os\n",
        "import numpy as np\n",
        "import pandas as pd\n",
        "import matplotlib.pyplot as plt"
      ],
      "execution_count": null,
      "outputs": []
    },
    {
      "cell_type": "markdown",
      "metadata": {
        "id": "7bR3kJb6Sg0A"
      },
      "source": [
        "## Loading the dataset\n",
        "\n",
        "The dataset consists of 5 CSV files, one for each video. Pandas `DataFrame` are very powerful to handle data in CSV format. The following helper function will load the data using pandas:"
      ]
    },
    {
      "cell_type": "code",
      "metadata": {
        "id": "dN3YJ0oQSg0A"
      },
      "source": [
        "def load_labeled_spam_dataset():\n",
        "    \"\"\"Load labeled spam dataset.\"\"\"\n",
        "\n",
        "    # Path where csv files are located\n",
        "    base_path = \"./data/\"\n",
        "\n",
        "    # List of csv files with full path\n",
        "    csv_files = [os.path.join(base_path, csv) for csv in os.listdir(base_path)]\n",
        "\n",
        "    # List of dataframes for each file\n",
        "    dfs = [pd.read_csv(filename) for filename in csv_files]\n",
        "\n",
        "    # Concatenate dataframes into a single one\n",
        "    df = pd.concat(dfs)\n",
        "\n",
        "    # Rename columns\n",
        "    df = df.rename(columns={\"CONTENT\": \"text\", \"CLASS\": \"label\"})\n",
        "\n",
        "    # Set a seed for the order of rows\n",
        "    df = df.sample(frac=1, random_state=824)\n",
        "    \n",
        "    return df.reset_index()\n",
        "\n",
        "\n",
        "# Save the dataframe into the df_labeled variable\n",
        "df_labeled = load_labeled_spam_dataset()"
      ],
      "execution_count": null,
      "outputs": []
    },
    {
      "cell_type": "markdown",
      "metadata": {
        "id": "5Dc5-DsjSg0B"
      },
      "source": [
        "To have a feeling of how the data is organized, let's inspect the top 5 rows of the data:"
      ]
    },
    {
      "cell_type": "code",
      "metadata": {
        "id": "x4LO2bx7Sg0B",
        "outputId": "41a73ac8-ee7a-4949-cb5d-ac46a54ccec5"
      },
      "source": [
        "# Take a look at the first 5 rows\n",
        "df_labeled.head()"
      ],
      "execution_count": null,
      "outputs": [
        {
          "output_type": "execute_result",
          "data": {
            "text/html": [
              "<div>\n",
              "<style scoped>\n",
              "    .dataframe tbody tr th:only-of-type {\n",
              "        vertical-align: middle;\n",
              "    }\n",
              "\n",
              "    .dataframe tbody tr th {\n",
              "        vertical-align: top;\n",
              "    }\n",
              "\n",
              "    .dataframe thead th {\n",
              "        text-align: right;\n",
              "    }\n",
              "</style>\n",
              "<table border=\"1\" class=\"dataframe\">\n",
              "  <thead>\n",
              "    <tr style=\"text-align: right;\">\n",
              "      <th></th>\n",
              "      <th>index</th>\n",
              "      <th>COMMENT_ID</th>\n",
              "      <th>AUTHOR</th>\n",
              "      <th>DATE</th>\n",
              "      <th>text</th>\n",
              "      <th>label</th>\n",
              "    </tr>\n",
              "  </thead>\n",
              "  <tbody>\n",
              "    <tr>\n",
              "      <th>0</th>\n",
              "      <td>86</td>\n",
              "      <td>z12uzb3oxy23cbikz23qsjczaxz5wh1t5</td>\n",
              "      <td>luisel Tutoriales Gameplays (luisel Tutoriales)</td>\n",
              "      <td>2015-05-23T18:56:07.484000</td>\n",
              "      <td>music yeah﻿</td>\n",
              "      <td>0</td>\n",
              "    </tr>\n",
              "    <tr>\n",
              "      <th>1</th>\n",
              "      <td>291</td>\n",
              "      <td>z122z5pa2wyofbjj304cgfwrrmvjgn0pohc</td>\n",
              "      <td>Mia Aspinall</td>\n",
              "      <td>2014-11-08T10:30:35</td>\n",
              "      <td>2 billion views, only 2 million shares﻿</td>\n",
              "      <td>0</td>\n",
              "    </tr>\n",
              "    <tr>\n",
              "      <th>2</th>\n",
              "      <td>142</td>\n",
              "      <td>z13bttm5gxecfvrqq04cevkpuxj5s1u5ys40k</td>\n",
              "      <td>Vane Cavazos</td>\n",
              "      <td>2014-09-20T15:39:44</td>\n",
              "      <td>Katycat! https://m.facebook.com/profile.php?id...</td>\n",
              "      <td>1</td>\n",
              "    </tr>\n",
              "    <tr>\n",
              "      <th>3</th>\n",
              "      <td>147</td>\n",
              "      <td>z132zl1rupqcylbep23jgfig3um3ct5vv</td>\n",
              "      <td>KatyPerry TheQueenOfPop</td>\n",
              "      <td>2014-09-22T06:50:24</td>\n",
              "      <td>--&amp;gt;ATTENTION KATYCATS! Katy leads with 7 no...</td>\n",
              "      <td>1</td>\n",
              "    </tr>\n",
              "    <tr>\n",
              "      <th>4</th>\n",
              "      <td>326</td>\n",
              "      <td>z12usr54ppaxxf1dl23nhbybruapdnixw04</td>\n",
              "      <td>Arthur Teixeira</td>\n",
              "      <td>2014-11-12T20:12:47</td>\n",
              "      <td>I wanted to know the name of the guy that danc...</td>\n",
              "      <td>0</td>\n",
              "    </tr>\n",
              "  </tbody>\n",
              "</table>\n",
              "</div>"
            ],
            "text/plain": [
              "   index                             COMMENT_ID  \\\n",
              "0     86      z12uzb3oxy23cbikz23qsjczaxz5wh1t5   \n",
              "1    291    z122z5pa2wyofbjj304cgfwrrmvjgn0pohc   \n",
              "2    142  z13bttm5gxecfvrqq04cevkpuxj5s1u5ys40k   \n",
              "3    147      z132zl1rupqcylbep23jgfig3um3ct5vv   \n",
              "4    326    z12usr54ppaxxf1dl23nhbybruapdnixw04   \n",
              "\n",
              "                                            AUTHOR  \\\n",
              "0  luisel Tutoriales Gameplays (luisel Tutoriales)   \n",
              "1                                     Mia Aspinall   \n",
              "2                                     Vane Cavazos   \n",
              "3                          KatyPerry TheQueenOfPop   \n",
              "4                                  Arthur Teixeira   \n",
              "\n",
              "                         DATE  \\\n",
              "0  2015-05-23T18:56:07.484000   \n",
              "1         2014-11-08T10:30:35   \n",
              "2         2014-09-20T15:39:44   \n",
              "3         2014-09-22T06:50:24   \n",
              "4         2014-11-12T20:12:47   \n",
              "\n",
              "                                                text  label  \n",
              "0                                        music yeah﻿      0  \n",
              "1            2 billion views, only 2 million shares﻿      0  \n",
              "2  Katycat! https://m.facebook.com/profile.php?id...      1  \n",
              "3  --&gt;ATTENTION KATYCATS! Katy leads with 7 no...      1  \n",
              "4  I wanted to know the name of the guy that danc...      0  "
            ]
          },
          "metadata": {
            "tags": []
          },
          "execution_count": 3
        }
      ]
    },
    {
      "cell_type": "markdown",
      "metadata": {
        "id": "AGYlX2rxSg0C"
      },
      "source": [
        "## Further inspection and preprocessing\n",
        "\n",
        "\n",
        "### Checking for data imbalance\n",
        "\n",
        "It is fairly common to assume that the data you are working on is balanced. This means that the dataset contains a similar proportion of examples for all classes. Before moving forward let's actually test this assumption:"
      ]
    },
    {
      "cell_type": "code",
      "metadata": {
        "id": "nU0FV0TSSg0C",
        "outputId": "acddea60-8a9e-46c8-8879-2bcfb9ca2a5b"
      },
      "source": [
        "# Print actual value count\n",
        "print(f\"Value counts for each class:\\n\\n{df_labeled.label.value_counts()}\\n\")\n",
        "\n",
        "# Display pie chart to visually check the proportion\n",
        "df_labeled.label.value_counts().plot.pie(y='label', title='Proportion of each class')\n",
        "plt.show()"
      ],
      "execution_count": null,
      "outputs": [
        {
          "output_type": "stream",
          "text": [
            "Value counts for each class:\n",
            "\n",
            "1    1005\n",
            "0     951\n",
            "Name: label, dtype: int64\n",
            "\n"
          ],
          "name": "stdout"
        },
        {
          "output_type": "display_data",
          "data": {
            "image/png": "[encoded data removed]",
            "text/plain": [
              "<Figure size 432x288 with 1 Axes>"
            ]
          },
          "metadata": {
            "tags": []
          }
        }
      ]
    },
    {
      "cell_type": "markdown",
      "metadata": {
        "id": "kdEcqk7qSg0D"
      },
      "source": [
        "There is roughly the same number of data points for each class so class imbalance is not an issue for this particular dataset.\n",
        "\n",
        "\n",
        "### Cleaning the dataset\n",
        "\n",
        "If you scroll back to the cell where  you inspected the data, you will realize that the dataframe includes information that is not relevant for the task at hand. At the moment, you are only interested in the comments and the corresponding labels (the video that each comment belongs to will be used later). Let's drop the remaining columns."
      ]
    },
    {
      "cell_type": "code",
      "metadata": {
        "id": "6FTfKy3SSg0D",
        "outputId": "be556c4f-1540-4ea1-cce7-85ee42678266"
      },
      "source": [
        "# Drop unused columns\n",
        "df_labeled = df_labeled.drop(['index', 'COMMENT_ID', 'AUTHOR', 'DATE'], axis=1)\n",
        "\n",
        "# Look at the cleaned dataset\n",
        "df_labeled.head()"
      ],
      "execution_count": null,
      "outputs": [
        {
          "output_type": "execute_result",
          "data": {
            "text/html": [
              "<div>\n",
              "<style scoped>\n",
              "    .dataframe tbody tr th:only-of-type {\n",
              "        vertical-align: middle;\n",
              "    }\n",
              "\n",
              "    .dataframe tbody tr th {\n",
              "        vertical-align: top;\n",
              "    }\n",
              "\n",
              "    .dataframe thead th {\n",
              "        text-align: right;\n",
              "    }\n",
              "</style>\n",
              "<table border=\"1\" class=\"dataframe\">\n",
              "  <thead>\n",
              "    <tr style=\"text-align: right;\">\n",
              "      <th></th>\n",
              "      <th>text</th>\n",
              "      <th>label</th>\n",
              "    </tr>\n",
              "  </thead>\n",
              "  <tbody>\n",
              "    <tr>\n",
              "      <th>0</th>\n",
              "      <td>music yeah﻿</td>\n",
              "      <td>0</td>\n",
              "    </tr>\n",
              "    <tr>\n",
              "      <th>1</th>\n",
              "      <td>2 billion views, only 2 million shares﻿</td>\n",
              "      <td>0</td>\n",
              "    </tr>\n",
              "    <tr>\n",
              "      <th>2</th>\n",
              "      <td>Katycat! https://m.facebook.com/profile.php?id...</td>\n",
              "      <td>1</td>\n",
              "    </tr>\n",
              "    <tr>\n",
              "      <th>3</th>\n",
              "      <td>--&amp;gt;ATTENTION KATYCATS! Katy leads with 7 no...</td>\n",
              "      <td>1</td>\n",
              "    </tr>\n",
              "    <tr>\n",
              "      <th>4</th>\n",
              "      <td>I wanted to know the name of the guy that danc...</td>\n",
              "      <td>0</td>\n",
              "    </tr>\n",
              "  </tbody>\n",
              "</table>\n",
              "</div>"
            ],
            "text/plain": [
              "                                                text  label\n",
              "0                                        music yeah﻿      0\n",
              "1            2 billion views, only 2 million shares﻿      0\n",
              "2  Katycat! https://m.facebook.com/profile.php?id...      1\n",
              "3  --&gt;ATTENTION KATYCATS! Katy leads with 7 no...      1\n",
              "4  I wanted to know the name of the guy that danc...      0"
            ]
          },
          "metadata": {
            "tags": []
          },
          "execution_count": 5
        }
      ]
    },
    {
      "cell_type": "markdown",
      "metadata": {
        "id": "_wEvFhQQSg0D"
      },
      "source": [
        "Now the dataset only includes the information you are going to use moving forward.\n",
        "\n",
        "### Splitting the dataset\n",
        "\n",
        "Before jumping to the data labeling section let's split the data into training and test sets so you can use the latter to measure the performance of models that were trained using data labeled through different methods. As a safety measure when doing this split, remember to use stratification so the proportion of classes is maintained within each split."
      ]
    },
    {
      "cell_type": "code",
      "metadata": {
        "id": "g8Om8iOXSg0E",
        "outputId": "7657518b-04a0-43da-9de3-fbe74e4c225f"
      },
      "source": [
        "from sklearn.model_selection import train_test_split\n",
        "\n",
        "# Save the text into the X variable\n",
        "X = df_labeled.drop(\"label\", axis=1)\n",
        "\n",
        "# Save the true labels into the y variable\n",
        "y = df_labeled[\"label\"]\n",
        "\n",
        "# Use 1/5 of the data for testing later\n",
        "X_train, X_test, y_train, y_test = train_test_split(X, y, test_size=0.2, random_state=42, stratify=y)\n",
        "\n",
        "# Print number of comments for each set\n",
        "print(f\"There are {X_train.shape[0]} comments for training.\")\n",
        "print(f\"There are {X_test.shape[0]} comments for testing\")"
      ],
      "execution_count": null,
      "outputs": [
        {
          "output_type": "stream",
          "text": [
            "There are 1564 comments for training.\n",
            "There are 392 comments for testing\n"
          ],
          "name": "stdout"
        }
      ]
    },
    {
      "cell_type": "markdown",
      "metadata": {
        "id": "irfuXI6bSg0E"
      },
      "source": [
        "Let's do a visual to check that the stratification actually worked:"
      ]
    },
    {
      "cell_type": "code",
      "metadata": {
        "id": "l4JGNXNKSg0E",
        "outputId": "e7d7124c-1a6f-4b24-bf70-cbdc1d31f93e"
      },
      "source": [
        "plt.subplot(1, 3, 1)\n",
        "y_train.value_counts().plot.pie(y='label', title='Proportion of each class for train set', figsize=(10, 6))\n",
        "\n",
        "plt.subplot(1, 3, 3)\n",
        "y_test.value_counts().plot.pie(y='label', title='Proportion of each class for test set', figsize=(10, 6))\n",
        "\n",
        "plt.tight_layout()\n",
        "plt.show()"
      ],
      "execution_count": null,
      "outputs": [
        {
          "output_type": "display_data",
          "data": {
            "image/png": "[encoded data removed]",
            "text/plain": [
              "<Figure size 720x432 with 2 Axes>"
            ]
          },
          "metadata": {
            "tags": []
          }
        }
      ]
    },
    {
      "cell_type": "markdown",
      "metadata": {
        "id": "rZAP-nbhSg0F"
      },
      "source": [
        "Both, the training and test sets a balanced proportion of examples per class. So, the code successfully implemented stratification.  \n",
        "\n",
        "Let's get going!"
      ]
    },
    {
      "cell_type": "markdown",
      "metadata": {
        "id": "K61HIsmGSg0G"
      },
      "source": [
        "## Data Labeling \n",
        "\n",
        "### Establishing performance lower and upper bounds for reference\n",
        "\n",
        "To properly compare different labeling strategies you need to establish a baseline for model accuracy, in this case you will establish both a lower and an upper bound to compare against. \n",
        "\n"
      ]
    },
    {
      "cell_type": "markdown",
      "metadata": {
        "id": "_uCTFxbfSg0H"
      },
      "source": [
        "### Calculate accuracy of a labeling strategy\n",
        "\n",
        "[CountVectorizer](https://scikit-learn.org/stable/modules/generated/sklearn.feature_extraction.text.CountVectorizer.html#sklearn.feature_extraction.text.CountVectorizer) is a handy tool included in the sklearn ecosystem to encode text based data."
      ]
    },
    {
      "cell_type": "code",
      "metadata": {
        "id": "GuaVfgjRSg0H"
      },
      "source": [
        "from sklearn.feature_extraction.text import CountVectorizer\n",
        "\n",
        "# Allow unigrams and bigrams\n",
        "vectorizer = CountVectorizer(ngram_range=(1, 5))"
      ],
      "execution_count": null,
      "outputs": []
    },
    {
      "cell_type": "markdown",
      "metadata": {
        "id": "radB9TYnSg0I"
      },
      "source": [
        "Now that the text encoding is defined, you need to select a model to make predictions. For simplicity you will use a [Multinomial Naive Bayes](https://scikit-learn.org/stable/modules/generated/sklearn.naive_bayes.MultinomialNB.html) classifier. This model is well suited for text classification and is fairly quick to train.\n",
        "\n",
        "Let's define a function which will handle the model fitting and print out the accuracy on the test data:"
      ]
    },
    {
      "cell_type": "code",
      "metadata": {
        "id": "JRYV9FjFSg0I"
      },
      "source": [
        "from sklearn.metrics import accuracy_score\n",
        "from sklearn.naive_bayes import MultinomialNB\n",
        "\n",
        "\n",
        "def calculate_accuracy(X_tr, y_tr, X_te=X_test, y_te=y_test, \n",
        "                       clf=MultinomialNB(), vectorizer=vectorizer):\n",
        "    \n",
        "    # Encode train text\n",
        "    X_train_vect = vectorizer.fit_transform(X_tr.text.tolist())\n",
        "    \n",
        "    # Fit model\n",
        "    clf.fit(X=X_train_vect, y=y_tr)\n",
        "    \n",
        "    # Vectorize test text\n",
        "    X_test_vect = vectorizer.transform(X_te.text.tolist())\n",
        "    \n",
        "    # Make predictions for the test set\n",
        "    preds = clf.predict(X_test_vect)\n",
        "    \n",
        "    # Return accuracy score\n",
        "    return accuracy_score(preds, y_te)\n"
      ],
      "execution_count": null,
      "outputs": []
    },
    {
      "cell_type": "markdown",
      "metadata": {
        "id": "wa8yxTjnSg0J"
      },
      "source": [
        "Now let's create a dictionary  to store the accuracy of each labeling method:"
      ]
    },
    {
      "cell_type": "code",
      "metadata": {
        "id": "mnOf5SPMSg0J"
      },
      "source": [
        "# Empty dictionary\n",
        "accs = dict()"
      ],
      "execution_count": null,
      "outputs": []
    },
    {
      "cell_type": "markdown",
      "metadata": {
        "id": "4tXcvZ9SSg0K"
      },
      "source": [
        "### Random Labeling\n",
        "\n",
        "Generating random labels is a natural way to establish a lower bound. You will expect that any successful alternative labeling model to outperform randomly generated labels. \n",
        "\n",
        "Now let's calculate the accuracy for the random labeling method"
      ]
    },
    {
      "cell_type": "code",
      "metadata": {
        "id": "9eOWWNlGSg0K",
        "outputId": "541dab01-def1-484b-9651-cd4169aaf166"
      },
      "source": [
        "# Calculate random labels\n",
        "rnd_labels = np.random.randint(0, 2, X_train.shape[0])\n",
        "\n",
        "# Feed them alongside X_train to calculate_accuracy function\n",
        "rnd_acc = calculate_accuracy(X_train, rnd_labels)\n",
        "\n",
        "rnd_acc"
      ],
      "execution_count": null,
      "outputs": [
        {
          "output_type": "execute_result",
          "data": {
            "text/plain": [
              "0.5204081632653061"
            ]
          },
          "metadata": {
            "tags": []
          },
          "execution_count": 12
        }
      ]
    },
    {
      "cell_type": "markdown",
      "metadata": {
        "id": "WNR23mEnSg0L"
      },
      "source": [
        "You will see a different accuracy everytime you run the previous cell. This is due to the fact that the labeling is done randomly. Remember, this is a binary classification problem and both classes are balanced, so you can expect to see accuracies that revolve around 50%.\n",
        "\n",
        "To further gain intuition let's look at the average accuracy over 10 runs:"
      ]
    },
    {
      "cell_type": "code",
      "metadata": {
        "id": "0-PmH77kSg0L",
        "outputId": "dd5a2e52-2b7a-4d52-ee4a-afe589f047a8"
      },
      "source": [
        "# Empty list to save accuracies\n",
        "rnd_accs = []\n",
        "\n",
        "for _ in range(10):\n",
        "    # Add every accuracy to the list\n",
        "    rnd_accs.append(calculate_accuracy(X_train, np.random.randint(0, 2, X_train.shape[0])))\n",
        "\n",
        "# Save result in accs dictionary\n",
        "accs['random-labels'] = sum(rnd_accs)/len(rnd_accs)\n",
        "\n",
        "# Print result\n",
        "print(f\"The random labelling method achieved and accuracy of {accs['random-labels']*100:.2f}%\")"
      ],
      "execution_count": null,
      "outputs": [
        {
          "output_type": "stream",
          "text": [
            "The random labelling method achieved and accuracy of 52.86%\n"
          ],
          "name": "stdout"
        }
      ]
    },
    {
      "cell_type": "markdown",
      "metadata": {
        "id": "SZIics-rSg0L"
      },
      "source": [
        "Random labelling is completely disregarding the information from the solution space you are working on, and is just guessing the correct label. You can't probably do worse than this (or maybe you can). For this reason, this method serves as reference for comparing other labeling methods\n",
        "\n",
        "\n",
        "### Labeling with true values\n",
        "\n",
        "Now let's look at the other end of the spectrum, this is using the correct labels for your data points. Let's retrain the Multinomial Naive Bayes classifier with the actual labels "
      ]
    },
    {
      "cell_type": "code",
      "metadata": {
        "id": "ZFFSLorCSg0L",
        "outputId": "6ad37d32-4cdc-47b9-f388-3b205285363d"
      },
      "source": [
        "# Calculate accuracy when using the true labels\n",
        "true_acc = calculate_accuracy(X_train, y_train)\n",
        "\n",
        "# Save the result\n",
        "accs['true-labels'] = true_acc\n",
        "\n",
        "print(f\"The true labelling method achieved and accuracy of {accs['true-labels']*100:.2f}%\")"
      ],
      "execution_count": null,
      "outputs": [
        {
          "output_type": "stream",
          "text": [
            "The true labelling method achieved and accuracy of 91.58%\n"
          ],
          "name": "stdout"
        }
      ]
    },
    {
      "cell_type": "markdown",
      "metadata": {
        "id": "RL8HkTXISg0M"
      },
      "source": [
        "Training with the true labels produced a noticeable boost in accuracy. This is expected as the classifier is now able to properly identify patterns in the training data which were lacking with randomly generated labels. \n",
        "\n",
        "Achieving higher accuracy is possible by either fine-tunning the model or even selecting a different one. For the time being you will keep the model as it is and use this accuracy as what we should strive for with the automatic labeling algorithms you will see next."
      ]
    },
    {
      "cell_type": "markdown",
      "metadata": {
        "id": "ghZ6N5rcSg0M"
      },
      "source": [
        "## Automatic labeling - Trying out different labeling strategies"
      ]
    },
    {
      "cell_type": "markdown",
      "metadata": {
        "id": "bIohGPywSg0M"
      },
      "source": [
        "Let's suppose that for some reason you don't have access to the true labels associated with each data point in this dataset. It is a natural idea to think that there are patterns in the data that will provide clues of which are the correct labels. This is of course very dependant on the kind of data you are working with and to even hypothesize which patterns exist requires great domain knowledge.\n",
        "\n",
        "The dataset used in this lab was used for this reason. It is reasonable for many people to come up with rules that might help identify a spam comment from a non-spam one for a Youtube video. In the following section you will be performing automatic labeling using such rules. **You can think of each iteration of this process as a labeler with different criteria for labeling** and your job is to hire the most promising one.\n",
        "\n",
        "Notice the word **rules**. In order to perform automatic labeling you will define some rules such as \"if the comment contains the word 'free' classify it as spam\".\n",
        "\n",
        "First things first. Let's define how we are going to encode the labeling:\n",
        "- `SPAM` is represented by 1\n",
        "\n",
        "\n",
        "- `NOT_SPAM` by 0 \n",
        "\n",
        "\n",
        "- `NO_LABEL` as -1\n",
        "\n",
        "\n",
        "You might be wondering about the `NO_LABEL` keyword. Depending on the rules you come up with, these might not be applicable to some data points. For such cases it is better to refuse from giving a label rather than guessing, which you already saw yields poor results."
      ]
    },
    {
      "cell_type": "markdown",
      "metadata": {
        "id": "2Db_x8UFSg0N"
      },
      "source": [
        "### First iteration - Define some rules\n",
        "\n",
        "For this first iteration you will create three  rules based on the intuition of common patterns that appear on spam comments. The rules are simple, classify as SPAM if any of the following patterns is present within the comment or NO_LABEL otherwise:\n",
        "- `free` - spam comments usually lure users by promoting free stuff\n",
        "- `subs` - spam comments tend to ask users to subscribe to some website or channel\n",
        "- `http` - spam comments include links very frequently"
      ]
    },
    {
      "cell_type": "code",
      "metadata": {
        "id": "Dt9_ZeRjSg0N"
      },
      "source": [
        "def labeling_rules_1(x):\n",
        "    \n",
        "    # Convert text to lowercase\n",
        "    x = x.lower()\n",
        "    \n",
        "    # Define list of rules\n",
        "    rules = [\n",
        "        \"free\" in x,\n",
        "        \"subs\" in x,\n",
        "        \"http\" in x\n",
        "    ]\n",
        "    \n",
        "    # If the comment falls under any of the rules classify as SPAM\n",
        "    if any(rules):\n",
        "        return 1\n",
        "    \n",
        "    # Otherwise, NO_LABEL\n",
        "    return -1"
      ],
      "execution_count": null,
      "outputs": []
    },
    {
      "cell_type": "code",
      "metadata": {
        "id": "Q4kwHpS8Sg0N",
        "outputId": "fedf82df-c6eb-4daa-84cb-f6a0363afffb"
      },
      "source": [
        "# Apply the rules the comments in the train set\n",
        "labels = [labeling_rules_1(label) for label in X_train.text]\n",
        "\n",
        "# Convert to a numpy array\n",
        "labels = np.asarray(labels)\n",
        "\n",
        "# Take a look at the automatic labels\n",
        "labels"
      ],
      "execution_count": null,
      "outputs": [
        {
          "output_type": "execute_result",
          "data": {
            "text/plain": [
              "array([-1, -1, -1, ..., -1, -1,  1])"
            ]
          },
          "metadata": {
            "tags": []
          },
          "execution_count": 16
        }
      ]
    },
    {
      "cell_type": "markdown",
      "metadata": {
        "id": "eSLmgU-JSg0O"
      },
      "source": [
        "For lots of points the automatic labeling algorithm decided to not settle for a label, this is expected given the nature of the rules that were defined. These points should be deleted since they don't provide information about the classification process and tend to hurt performance."
      ]
    },
    {
      "cell_type": "code",
      "metadata": {
        "id": "e_nde-5TSg0O",
        "outputId": "71173d33-493c-42af-eece-a42de7e17df4"
      },
      "source": [
        "# Create the automatic labeled version of X_train by removing points with NO_LABEL label\n",
        "X_train_al = X_train[labels != -1]\n",
        "\n",
        "# Remove predictions with NO_LABEL label\n",
        "labels_al = labels[labels != -1]\n",
        "\n",
        "print(f\"Predictions with concrete label have shape: {labels_al.shape}\")\n",
        "\n",
        "print(f\"Proportion of data points kept: {labels_al.shape[0]/labels.shape[0]*100:.2f}%\")"
      ],
      "execution_count": null,
      "outputs": [
        {
          "output_type": "stream",
          "text": [
            "Predictions with concrete label have shape: (379,)\n",
            "Proportion of data points kept: 24.23%\n"
          ],
          "name": "stdout"
        }
      ]
    },
    {
      "cell_type": "markdown",
      "metadata": {
        "id": "PjqYtjLCSg0P"
      },
      "source": [
        "Notice that only 379 data points remained out of the original 1564. The rules defined didn't provide enough context for the labeling algorithm to settle on a label, so around 75% of the data has been trimmed.\n",
        "\n",
        "Let's test the accuracy of the model when using these automatic generated labels:"
      ]
    },
    {
      "cell_type": "code",
      "metadata": {
        "id": "CeJ5EToMSg0P",
        "outputId": "87d440e0-8fc9-4d2f-9924-c446aca3d46d"
      },
      "source": [
        "# Compute accuracy when using these labels\n",
        "iter_1_acc = calculate_accuracy(X_train_al, labels_al)\n",
        "\n",
        "# Display accuracy\n",
        "print(f\"First iteration of automatic labeling has an accuracy of {iter_1_acc*100:.2f}%\")\n",
        "\n",
        "# Save the result\n",
        "accs['first-iteration'] = iter_1_acc"
      ],
      "execution_count": null,
      "outputs": [
        {
          "output_type": "stream",
          "text": [
            "First iteration of automatic labeling has an accuracy of 51.28%\n"
          ],
          "name": "stdout"
        }
      ]
    },
    {
      "cell_type": "markdown",
      "metadata": {
        "id": "CPFO4i59Sg0Q"
      },
      "source": [
        "Let's compare this accuracy to the baselines by plotting:"
      ]
    },
    {
      "cell_type": "code",
      "metadata": {
        "id": "7PEU4lc1Sg0Q",
        "outputId": "8404584e-bdb5-4c02-98dc-5210c7f44d10"
      },
      "source": [
        "def plot_accuracies(accs=accs):\n",
        "    colors = list(\"rgbcmy\")\n",
        "    items_num = len(accs)\n",
        "    cont = 1\n",
        "\n",
        "    for x, y in accs.items():\n",
        "        if x in ['true-labels', 'random-labels', 'true-labels-best-clf']:\n",
        "            plt.hlines(y, 0, (items_num-2)*2, colors=colors.pop())\n",
        "        else:\n",
        "            plt.scatter(cont, y, s=100)\n",
        "            cont+=2\n",
        "    plt.legend(accs.keys(), loc=\"center left\",bbox_to_anchor=(1, 0.5))\n",
        "    plt.show()\n",
        "    \n",
        "plot_accuracies()"
      ],
      "execution_count": null,
      "outputs": [
        {
          "output_type": "display_data",
          "data": {
            "image/png": "[encoded data removed]",
            "text/plain": [
              "<Figure size 432x288 with 1 Axes>"
            ]
          },
          "metadata": {
            "tags": [],
            "needs_background": "light"
          }
        }
      ]
    },
    {
      "cell_type": "markdown",
      "metadata": {
        "id": "DmOpxcFFSg0S"
      },
      "source": [
        "This first iteration had an accuracy very close to the random labeling, we should strive to do better than this. "
      ]
    },
    {
      "cell_type": "markdown",
      "metadata": {
        "id": "-lC0G6rySg0S"
      },
      "source": [
        "Before moving forward let's define the `label_given_rules` function that performs all of the steps you just saw, these are: \n",
        "- Apply the rules to a dataframe of comments\n",
        "- Cast the resulting labels to a numpy array\n",
        "- Delete all data points with NO_LABEL as label\n",
        "- Calculate the accuracy of the model using the automatic labels\n",
        "- Save the accuracy for plotting\n",
        "- Print some useful metrics of the process"
      ]
    },
    {
      "cell_type": "code",
      "metadata": {
        "id": "05BjdmGMSg0S"
      },
      "source": [
        "def label_given_rules(df, rules_function, name, \n",
        "                      accs_dict=accs, verbose=True):\n",
        "    \n",
        "    # Apply labeling rules to the comments\n",
        "    labels = [rules_function(label) for label in df.text]\n",
        "    \n",
        "    # Convert to a numpy array\n",
        "    labels = np.asarray(labels)\n",
        "    \n",
        "    # Save initial number of data points\n",
        "    initial_size = labels.shape[0]\n",
        "    \n",
        "    # Trim points with NO_LABEL label\n",
        "    X_train_al = df[labels != -1]\n",
        "    labels = labels[labels != -1]\n",
        "    \n",
        "    # Save number of data points after trimming\n",
        "    final_size = labels.shape[0]\n",
        "    \n",
        "    # Compute accuracy\n",
        "    acc = calculate_accuracy(X_train_al, labels)\n",
        "    \n",
        "    # Print useful information\n",
        "    if verbose:\n",
        "        print(f\"Proportion of data points kept: {final_size/initial_size*100:.2f}%\\n\")\n",
        "        print(f\"{name} labeling has an accuracy of {acc*100:.2f}%\\n\")\n",
        "        \n",
        "    # Save accuracy to accuracies dictionary\n",
        "    accs_dict[name] = acc\n",
        "    \n",
        "    return X_train_al, labels, acc"
      ],
      "execution_count": null,
      "outputs": []
    },
    {
      "cell_type": "markdown",
      "metadata": {
        "id": "j34zteksSg0T"
      },
      "source": [
        "Going forward we should come up with rules that have a better coverage of the training data, thus making pattern discovery an easier task. Also notice how the rules were only able to label as either SPAM or NO_LABEL, we should also create some rules that help the identification of NOT_SPAM comments."
      ]
    },
    {
      "cell_type": "markdown",
      "metadata": {
        "id": "uLZvljkiSg0T"
      },
      "source": [
        "### Second iteration - Coming up with better rules\n",
        "\n",
        "If you inspect the comments in the dataset you might be able to distinguish certain patterns at a glimpse. For example, not spam comments often make references to either the number of views since these were the most watched videos of 2015 or the song in the video and its contents . As for spam comments other common patterns are to promote gifts or ask to follow some channel or website.\n",
        "\n",
        "Let's create some new rules that include these patterns:"
      ]
    },
    {
      "cell_type": "code",
      "metadata": {
        "id": "hj0xwZNJSg0T"
      },
      "source": [
        "def labeling_rules_2(x):\n",
        "    \n",
        "    # Convert text to lowercase\n",
        "    x = x.lower()\n",
        "    \n",
        "    # Define list of rules to classify as NOT_SPAM\n",
        "    not_spam_rules = [\n",
        "        \"view\" in x,\n",
        "        \"song\" in x\n",
        "    ]\n",
        "    \n",
        "    # Define list of rules to classify as SPAM\n",
        "    spam_rules = [\n",
        "        \"free\" in x,\n",
        "        \"subs\" in x,\n",
        "        \"gift\" in x,\n",
        "        \"follow\" in x,\n",
        "        \"http\" in x\n",
        "    ]\n",
        "    \n",
        "    # Classify depending on the rules\n",
        "    if any(not_spam_rules):\n",
        "        return 0\n",
        "    \n",
        "    if any(spam_rules):\n",
        "        return 1\n",
        "    \n",
        "    return -1"
      ],
      "execution_count": null,
      "outputs": []
    },
    {
      "cell_type": "markdown",
      "metadata": {
        "id": "LlFOi-F4Sg0U"
      },
      "source": [
        "This new set of rules looks more promising as it includes more patterns to classify as SPAM as well as some patterns to classify as NOT_SPAM. This should result in more data points with a label different to NO_LABEL.\n",
        "\n",
        "Let's check if this is the case."
      ]
    },
    {
      "cell_type": "code",
      "metadata": {
        "id": "ING_VKpkSg0U",
        "outputId": "c75b4139-3259-452b-921a-4dcba798b217"
      },
      "source": [
        "label_given_rules(X_train, labeling_rules_2, \"second-iteration\")\n",
        "\n",
        "plot_accuracies()"
      ],
      "execution_count": null,
      "outputs": [
        {
          "output_type": "stream",
          "text": [
            "Proportion of data points kept: 44.12%\n",
            "\n",
            "second-iteration labeling has an accuracy of 70.92%\n",
            "\n"
          ],
          "name": "stdout"
        },
        {
          "output_type": "display_data",
          "data": {
            "image/png": "[encoded data removed]",
            "text/plain": [
              "<Figure size 432x288 with 1 Axes>"
            ]
          },
          "metadata": {
            "tags": [],
            "needs_background": "light"
          }
        }
      ]
    },
    {
      "cell_type": "markdown",
      "metadata": {
        "id": "eaaurbiBSg0U"
      },
      "source": [
        "This time 44% of the original dataset was given a decisive label and there were data points for both labels, this helped the model reach a higher accuracy when compared to the first iteration. Now the accuracy is considerably higher than the random labeling but it is still very far away from the upper bound.\n",
        "\n",
        "Let's see if we can make it even better!"
      ]
    },
    {
      "cell_type": "markdown",
      "metadata": {
        "id": "_8_ibLDBSg0V"
      },
      "source": [
        "### Third Iteration - Even more rules\n",
        "\n",
        "The rules we have defined so far are doing a fair job. Let's add two additional rules, one for classifying SPAM comments and the other for the opposite task.\n",
        "\n",
        "At a glimpse it looks like NOT_SPAM comments are usually shorter. This may be due to them not including hyperlinks but also in general they tend to be more concrete such as \"I love this song!\".\n",
        "\n",
        "Let's take a look at the average number of characters for SPAM comments vs NOT_SPAM oned:"
      ]
    },
    {
      "cell_type": "code",
      "metadata": {
        "id": "tXu6Cb3rSg0V",
        "outputId": "7b84166d-9f2b-473f-ff3d-6e4c388907fb"
      },
      "source": [
        "from statistics import mean\n",
        "\n",
        "print(f\"NOT_SPAM comments have an average of {mean([len(t) for t in df_labeled[df_labeled.label==0].text]):.2f} characters.\")\n",
        "print(f\"SPAM comments have an average of {mean([len(t) for t in df_labeled[df_labeled.label==1].text]):.2f} characters.\")"
      ],
      "execution_count": null,
      "outputs": [
        {
          "output_type": "stream",
          "text": [
            "NOT_SPAM comments have an average of 49.64 characters.\n",
            "SPAM comments have an average of 137.34 characters.\n"
          ],
          "name": "stdout"
        }
      ]
    },
    {
      "cell_type": "markdown",
      "metadata": {
        "id": "Yo83aJifSg0V"
      },
      "source": [
        "It sure looks like there is a big difference in the number of characters for both types of comments.\n",
        "\n",
        "To decide on a threshold to classify as NOT_SPAM let's plot a histogram of the number of characters for NOT_SPAM comments:"
      ]
    },
    {
      "cell_type": "code",
      "metadata": {
        "id": "_8QE-4jWSg0V",
        "outputId": "91ba70fb-085a-4b06-a590-81f2d23690d7"
      },
      "source": [
        "plt.hist([len(t) for t in df_labeled[df_labeled.label==0].text], range=(0,100))\n",
        "plt.show()"
      ],
      "execution_count": null,
      "outputs": [
        {
          "output_type": "display_data",
          "data": {
            "image/png": "[encoded data removed]",
            "text/plain": [
              "<Figure size 432x288 with 1 Axes>"
            ]
          },
          "metadata": {
            "tags": [],
            "needs_background": "light"
          }
        }
      ]
    },
    {
      "cell_type": "markdown",
      "metadata": {
        "id": "xx6t6UNRSg0X"
      },
      "source": [
        "The majority of NOT_SPAM comments have 30 or less characters so we'll use that as a threshold.\n",
        "\n",
        "Another prevalent pattern in spam comments is to ask users to \"check out\" a channel, website or link.\n",
        "\n",
        "Let's add these two new rules:"
      ]
    },
    {
      "cell_type": "code",
      "metadata": {
        "id": "Rs5e3equSg0X"
      },
      "source": [
        "def labeling_rules_3(x):\n",
        "    \n",
        "    # Convert text to lowercase\n",
        "    x = x.lower()\n",
        "    \n",
        "    # Define list of rules to classify as NOT_SPAM\n",
        "    not_spam_rules = [\n",
        "        \"view\" in x,\n",
        "        \"song\" in x,\n",
        "        len(x) < 30\n",
        "    ]\n",
        "    \n",
        "\n",
        "    # Define list of rules to classify as SPAM\n",
        "    spam_rules = [\n",
        "        \"free\" in x,\n",
        "        \"subs\" in x,\n",
        "        \"gift\" in x,\n",
        "        \"follow\" in x,\n",
        "        \"http\" in x,\n",
        "        \"check out\" in x\n",
        "    ]\n",
        "    \n",
        "    # Classify depending on the rules\n",
        "    if any(not_spam_rules):\n",
        "        return 0\n",
        "    \n",
        "    if any(spam_rules):\n",
        "        return 1\n",
        "    \n",
        "    return -1"
      ],
      "execution_count": null,
      "outputs": []
    },
    {
      "cell_type": "code",
      "metadata": {
        "id": "WX9LUSOHSg0X",
        "outputId": "4a7d58db-39d4-418c-893c-3511c92d683b"
      },
      "source": [
        "label_given_rules(X_train, labeling_rules_3, \"third-iteration\")\n",
        "\n",
        "plot_accuracies()"
      ],
      "execution_count": null,
      "outputs": [
        {
          "output_type": "stream",
          "text": [
            "Proportion of data points kept: 78.26%\n",
            "\n",
            "third-iteration labeling has an accuracy of 86.22%\n",
            "\n"
          ],
          "name": "stdout"
        },
        {
          "output_type": "display_data",
          "data": {
            "image/png": "[encoded data removed]",
            "text/plain": [
              "<Figure size 432x288 with 1 Axes>"
            ]
          },
          "metadata": {
            "tags": [],
            "needs_background": "light"
          }
        }
      ]
    },
    {
      "cell_type": "markdown",
      "metadata": {
        "id": "DJogWck6Sg0Y"
      },
      "source": [
        "These new rules do a pretty good job at both, covering the dataset and having a good model accuracy. To be more concrete this labeling strategy reached an accuracy of ~86%! We are getting closer and closer to the upper bound defined by using the true labels.\n",
        "\n",
        "We could keep going on adding more rules to improve accuracy and we do encourage you to try it out yourself!\n"
      ]
    },
    {
      "cell_type": "markdown",
      "metadata": {
        "id": "bdl_eJvCSg0Z"
      },
      "source": [
        "In general, **the better your labels are, the better your models will be**. Also it is important to realize that the process of correctly labeling data is a very complex one. **Remember, you can think of each one of the iterations of the automatic labeling process to be a different labeler with different criteria for labeling**. If you assume you are hiring labelers you will want to hire the latter for sure! \n",
        "\n",
        "Another important point to keep in mind is that establishing baselines to compare against is really important as they provide perspective on how well your data and models are performing.\n",
        "\n",
        "**Keep it up!**"
      ]
    }
  ]
}